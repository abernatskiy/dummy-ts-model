{
 "cells": [
  {
   "cell_type": "code",
   "execution_count": 1,
   "metadata": {
    "collapsed": false,
    "jupyter": {
     "outputs_hidden": false
    }
   },
   "outputs": [],
   "source": [
    "import pandas as pd\n",
    "import torch\n",
    "from torch import nn\n",
    "from torch.utils.data import DataLoader\n",
    "from timeSeriesDataset import TimeSeriesDataset\n",
    "from network import NeuralNetwork"
   ]
  },
  {
   "cell_type": "code",
   "execution_count": 2,
   "metadata": {
    "collapsed": false,
    "jupyter": {
     "outputs_hidden": false
    },
    "scrolled": true
   },
   "outputs": [
    {
     "name": "stdout",
     "output_type": "stream",
     "text": [
      "Shape of X [N, C, W]: torch.Size([512, 1, 900])\n",
      "Shape of y: torch.Size([512, 25]) torch.float32\n"
     ]
    }
   ],
   "source": [
    "batchSize = 512\n",
    "inputLength = 900 # 3 hours\n",
    "outputLength = 25 # 5 minutes\n",
    "\n",
    "df = pd.read_csv('./allPrices.csv')\n",
    "trainDataloader = DataLoader(TimeSeriesDataset(df[df['block']<20207949], 'block', 'price', 900, 25), batch_size=batchSize, shuffle=True)\n",
    "testDataloader = DataLoader(TimeSeriesDataset(df[df['block']>=20207949], 'block', 'price', 900, 25), batch_size=batchSize)\n",
    "# 20207949 on Ethereum occurred at Jul-01-2024 12:00:11 AM +UTC\n",
    "\n",
    "for X, y in testDataloader:\n",
    "    print(f\"Shape of X [N, C, W]: {X.shape}\")\n",
    "    print(f\"Shape of y: {y.shape} {y.dtype}\")\n",
    "    break"
   ]
  },
  {
   "cell_type": "code",
   "execution_count": 3,
   "metadata": {
    "collapsed": false,
    "jupyter": {
     "outputs_hidden": false
    }
   },
   "outputs": [
    {
     "name": "stdout",
     "output_type": "stream",
     "text": [
      "NeuralNetwork(\n",
      "  (linear_relu_stack): Sequential(\n",
      "    (0): Conv1d(1, 5, kernel_size=(100,), stride=(10,))\n",
      "    (1): Flatten(start_dim=1, end_dim=-1)\n",
      "    (2): ReLU()\n",
      "    (3): Linear(in_features=405, out_features=200, bias=True)\n",
      "    (4): ReLU()\n",
      "    (5): Linear(in_features=200, out_features=25, bias=True)\n",
      "  )\n",
      ")\n"
     ]
    }
   ],
   "source": [
    "# preparing the model\n",
    "device = 'cuda'\n",
    "model = NeuralNetwork().to(device)\n",
    "print(model)"
   ]
  },
  {
   "cell_type": "code",
   "execution_count": 4,
   "metadata": {
    "collapsed": false,
    "jupyter": {
     "outputs_hidden": false
    }
   },
   "outputs": [],
   "source": [
    "lossFn = nn.MSELoss()\n",
    "optimizer = torch.optim.SGD(model.parameters(), lr=1e-3)\n",
    "\n",
    "def train(dataloader, model, loss_fn, optimizer):\n",
    "    size = len(dataloader.dataset)\n",
    "    model.train()\n",
    "    for batch, (X, y) in enumerate(dataloader):\n",
    "        X, y = X.to(device), y.to(device)\n",
    "\n",
    "        # Compute prediction error\n",
    "        pred = model(X)\n",
    "        loss = loss_fn(pred, y)\n",
    "\n",
    "        # Backpropagation\n",
    "        loss.backward()\n",
    "        optimizer.step()\n",
    "        optimizer.zero_grad()\n",
    "\n",
    "        if batch % 1000 == 0:\n",
    "            loss, current = loss.item(), (batch + 1) * len(X)\n",
    "            print(f\"loss: {loss:>7f}  [{current:>5d}/{size:>5d}]\")\n",
    "\n",
    "def test(dataloader, model, loss_fn):\n",
    "    size = len(dataloader.dataset)\n",
    "    num_batches = len(dataloader)\n",
    "    model.eval()\n",
    "    test_loss, correct = 0, 0\n",
    "    with torch.no_grad():\n",
    "        for X, y in dataloader:\n",
    "            X, y = X.to(device), y.to(device)\n",
    "            pred = model(X)\n",
    "            test_loss += loss_fn(pred, y).item()\n",
    "    test_loss /= num_batches\n",
    "    print(f\"Test Error: \\n Avg loss: {test_loss:>8f} \\n\")"
   ]
  },
  {
   "cell_type": "code",
   "execution_count": 5,
   "metadata": {
    "collapsed": false,
    "jupyter": {
     "outputs_hidden": false
    }
   },
   "outputs": [
    {
     "name": "stdout",
     "output_type": "stream",
     "text": [
      "Epoch 1\n",
      "-------------------------------\n",
      "loss: 0.233678  [  512/3940145]\n",
      "loss: 0.174727  [512512/3940145]\n",
      "loss: 0.155064  [1024512/3940145]\n",
      "loss: 0.140673  [1536512/3940145]\n",
      "loss: 0.109018  [2048512/3940145]\n",
      "loss: 0.087594  [2560512/3940145]\n",
      "loss: 0.086466  [3072512/3940145]\n",
      "loss: 0.067633  [3584512/3940145]\n",
      "Test Error: \n",
      " Avg loss: 0.101228 \n",
      "\n",
      "Epoch 2\n",
      "-------------------------------\n",
      "loss: 0.058548  [  512/3940145]\n",
      "loss: 0.049477  [512512/3940145]\n",
      "loss: 0.043652  [1024512/3940145]\n",
      "loss: 0.040703  [1536512/3940145]\n",
      "loss: 0.035716  [2048512/3940145]\n",
      "loss: 0.030830  [2560512/3940145]\n",
      "loss: 0.024599  [3072512/3940145]\n",
      "loss: 0.029425  [3584512/3940145]\n",
      "Test Error: \n",
      " Avg loss: 0.038098 \n",
      "\n",
      "Epoch 3\n",
      "-------------------------------\n",
      "loss: 0.027262  [  512/3940145]\n",
      "loss: 0.028296  [512512/3940145]\n",
      "loss: 0.026591  [1024512/3940145]\n",
      "loss: 0.024777  [1536512/3940145]\n",
      "loss: 0.025552  [2048512/3940145]\n",
      "loss: 0.026065  [2560512/3940145]\n",
      "loss: 0.026162  [3072512/3940145]\n",
      "loss: 0.024646  [3584512/3940145]\n",
      "Test Error: \n",
      " Avg loss: 0.024245 \n",
      "\n",
      "Epoch 4\n",
      "-------------------------------\n",
      "loss: 0.024596  [  512/3940145]\n",
      "loss: 0.023055  [512512/3940145]\n",
      "loss: 0.024591  [1024512/3940145]\n",
      "loss: 0.023741  [1536512/3940145]\n",
      "loss: 0.022778  [2048512/3940145]\n",
      "loss: 0.022941  [2560512/3940145]\n",
      "loss: 0.019655  [3072512/3940145]\n",
      "loss: 0.021702  [3584512/3940145]\n",
      "Test Error: \n",
      " Avg loss: 0.020293 \n",
      "\n",
      "Epoch 5\n",
      "-------------------------------\n",
      "loss: 0.021286  [  512/3940145]\n",
      "loss: 0.020490  [512512/3940145]\n",
      "loss: 0.020838  [1024512/3940145]\n",
      "loss: 0.018273  [1536512/3940145]\n",
      "loss: 0.017703  [2048512/3940145]\n",
      "loss: 0.015647  [2560512/3940145]\n",
      "loss: 0.015145  [3072512/3940145]\n",
      "loss: 0.015759  [3584512/3940145]\n",
      "Test Error: \n",
      " Avg loss: 0.014364 \n",
      "\n",
      "Epoch 6\n",
      "-------------------------------\n",
      "loss: 0.015696  [  512/3940145]\n",
      "loss: 0.013479  [512512/3940145]\n",
      "loss: 0.013055  [1024512/3940145]\n",
      "loss: 0.011079  [1536512/3940145]\n",
      "loss: 0.012122  [2048512/3940145]\n",
      "loss: 0.010302  [2560512/3940145]\n",
      "loss: 0.009795  [3072512/3940145]\n",
      "loss: 0.007500  [3584512/3940145]\n",
      "Test Error: \n",
      " Avg loss: 0.006799 \n",
      "\n",
      "Epoch 7\n",
      "-------------------------------\n",
      "loss: 0.007523  [  512/3940145]\n",
      "loss: 0.006731  [512512/3940145]\n",
      "loss: 0.007818  [1024512/3940145]\n",
      "loss: 0.005468  [1536512/3940145]\n",
      "loss: 0.005144  [2048512/3940145]\n",
      "loss: 0.005445  [2560512/3940145]\n",
      "loss: 0.005009  [3072512/3940145]\n",
      "loss: 0.004545  [3584512/3940145]\n",
      "Test Error: \n",
      " Avg loss: 0.002537 \n",
      "\n",
      "Epoch 8\n",
      "-------------------------------\n",
      "loss: 0.003771  [  512/3940145]\n",
      "loss: 0.003591  [512512/3940145]\n",
      "loss: 0.003813  [1024512/3940145]\n",
      "loss: 0.003158  [1536512/3940145]\n",
      "loss: 0.002973  [2048512/3940145]\n",
      "loss: 0.002404  [2560512/3940145]\n",
      "loss: 0.002828  [3072512/3940145]\n",
      "loss: 0.002117  [3584512/3940145]\n",
      "Test Error: \n",
      " Avg loss: 0.000919 \n",
      "\n",
      "Epoch 9\n",
      "-------------------------------\n",
      "loss: 0.001964  [  512/3940145]\n",
      "loss: 0.002079  [512512/3940145]\n",
      "loss: 0.001818  [1024512/3940145]\n",
      "loss: 0.001519  [1536512/3940145]\n",
      "loss: 0.001902  [2048512/3940145]\n",
      "loss: 0.001233  [2560512/3940145]\n",
      "loss: 0.001417  [3072512/3940145]\n",
      "loss: 0.001231  [3584512/3940145]\n",
      "Test Error: \n",
      " Avg loss: 0.000358 \n",
      "\n",
      "Epoch 10\n",
      "-------------------------------\n",
      "loss: 0.001167  [  512/3940145]\n",
      "loss: 0.000988  [512512/3940145]\n",
      "loss: 0.000844  [1024512/3940145]\n",
      "loss: 0.000855  [1536512/3940145]\n",
      "loss: 0.000880  [2048512/3940145]\n",
      "loss: 0.000912  [2560512/3940145]\n",
      "loss: 0.000924  [3072512/3940145]\n",
      "loss: 0.000965  [3584512/3940145]\n",
      "Test Error: \n",
      " Avg loss: 0.000156 \n",
      "\n",
      "Done!\n"
     ]
    }
   ],
   "source": [
    "epochs = 10\n",
    "for t in range(epochs):\n",
    "    print(f\"Epoch {t+1}\\n-------------------------------\")\n",
    "    train(trainDataloader, model, lossFn, optimizer)\n",
    "    test(testDataloader, model, lossFn)\n",
    "print(\"Done!\")"
   ]
  },
  {
   "cell_type": "code",
   "execution_count": 6,
   "metadata": {
    "collapsed": false,
    "jupyter": {
     "outputs_hidden": false
    }
   },
   "outputs": [],
   "source": [
    "torch.save(model.state_dict(), \"model.pth\")"
   ]
  },
  {
   "cell_type": "code",
   "execution_count": 11,
   "metadata": {
    "collapsed": false,
    "jupyter": {
     "outputs_hidden": false
    }
   },
   "outputs": [
    {
     "data": {
      "text/plain": [
       "<All keys matched successfully>"
      ]
     },
     "execution_count": 11,
     "metadata": {},
     "output_type": "execute_result"
    }
   ],
   "source": [
    "model = NeuralNetwork().to(device)\n",
    "model.load_state_dict(torch.load(\"model.pth\", weights_only=True))"
   ]
  },
  {
   "cell_type": "code",
   "execution_count": 7,
   "metadata": {},
   "outputs": [],
   "source": [
    "import matplotlib.pyplot as plt"
   ]
  },
  {
   "cell_type": "code",
   "execution_count": 19,
   "metadata": {
    "collapsed": false,
    "jupyter": {
     "outputs_hidden": false
    }
   },
   "outputs": [
    {
     "name": "stdout",
     "output_type": "stream",
     "text": [
      "tensor([[0.6602, 0.6604, 0.6710, 0.6883, 0.6643, 0.6634, 0.6855, 0.6697, 0.6892,\n",
      "         0.6763, 0.6669, 0.7100, 0.6766, 0.6603, 0.6796, 0.6525, 0.6765, 0.6624,\n",
      "         0.6685, 0.6847, 0.6721, 0.6580, 0.6888, 0.6556, 0.6523]],\n",
      "       device='cuda:0') tensor([[0.7053, 0.7053, 0.7053, 0.7053, 0.7053, 0.7053, 0.7006, 0.7006, 0.7006,\n",
      "         0.7006, 0.7006, 0.7006, 0.7010, 0.7010, 0.7010, 0.7014, 0.7014, 0.7014,\n",
      "         0.7014, 0.7010, 0.7007, 0.7007, 0.7007, 0.7007, 0.7007]])\n"
     ]
    }
   ],
   "source": [
    "model.eval()\n",
    "testData = TimeSeriesDataset(df[df['block']>=20207949], 'block', 'price', 900, 25) # to avoid re-running\n",
    "x, y = testData[0][0].unsqueeze(0), testData[0][1].unsqueeze(0)\n",
    "with torch.no_grad():\n",
    "    x = x.to(device)\n",
    "    pred = model(x)\n",
    "    print(pred, y)"
   ]
  }
 ],
 "metadata": {
  "kernelspec": {
   "display_name": "Python 3 (ipykernel)",
   "language": "python",
   "name": "python3"
  },
  "language_info": {
   "codemirror_mode": {
    "name": "ipython",
    "version": 3
   },
   "file_extension": ".py",
   "mimetype": "text/x-python",
   "name": "python",
   "nbconvert_exporter": "python",
   "pygments_lexer": "ipython3",
   "version": "3.12.6"
  }
 },
 "nbformat": 4,
 "nbformat_minor": 4
}
